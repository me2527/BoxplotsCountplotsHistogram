{
  "nbformat": 4,
  "nbformat_minor": 0,
  "metadata": {
    "colab": {
      "name": "20/07/2020_ADITIDWIVEDI_Project8_BoxplotsCountplotsHistogram",
      "provenance": [],
      "collapsed_sections": [],
      "include_colab_link": true
    },
    "kernelspec": {
      "name": "python3",
      "display_name": "Python 3"
    }
  },
  "cells": [
    {
      "cell_type": "markdown",
      "metadata": {
        "id": "view-in-github",
        "colab_type": "text"
      },
      "source": [
        "<a href=\"https://colab.research.google.com/github/me2527/BoxplotsCountplotsHistogram/blob/main/20_07_2020_ADITIDWIVEDI_Project8_BoxplotsCountplotsHistogram.ipynb\" target=\"_parent\"><img src=\"https://colab.research.google.com/assets/colab-badge.svg\" alt=\"Open In Colab\"/></a>"
      ]
    },
    {
      "cell_type": "markdown",
      "metadata": {
        "id": "ZPaZWzKAUtW0"
      },
      "source": [
        "# Project 8: Credit Card Clients in Taiwan in 2005 - Box Plots, Count Plots & Histograms"
      ]
    },
    {
      "cell_type": "markdown",
      "metadata": {
        "id": "YxZWCaQCaFZE"
      },
      "source": [
        "---"
      ]
    },
    {
      "cell_type": "markdown",
      "metadata": {
        "id": "uitR6TtIC1Oq"
      },
      "source": [
        "### Context\n",
        "\n",
        "The credit card companies maintain comprehensive data about each of their clients to ensure that they pay back to the company on time otherwise, the company will incur a huge loss after all it is the company that is making the payment on behalf of the client. \n",
        "\n",
        "Based on the financial capability of a client, they get a credit limit, i.e., the maximum amount they can spend in a month through a credit card. This is to ensure that a client is able to pay back to the company. They also get a one month time window (likely to vary from company to company) to pay back without attracting any fine or late payment charges. \n",
        "\n",
        "You can read about the late payment charges for the HDFC bank credit cards by clicking on the link provided below.\n",
        "\n",
        "[HDFC Bank Credit Card Terms & Conditions](https://www.hdfcbank.com/content/bbp/repositories/723fb80a-2dde-42a3-9793-7ae1be57c87f/?path=/Personal/Pay/Cards/Credit%20Card/Credit%20Card%20Landing%20Page/Credit%20Cards/CASH%20BACK/Money%20Back/cc-common-MITC.pdf)\n",
        "\n",
        "Credit card companies make a huge profit by charging about 2% or 3% of the amount as a transaction fee to the merchant (or seller) at the point of sale. They also heavily bank on the delay in the repayment by a credit card holder so that they can make a profit by charging huge late payment fees. However, the latter comes with a risk. Hence, in order to assess the degree of risk a credit card company should afford to take by giving away credit cards to the general public or an organisation, they maintain data about each of their clients. By analysing the data, they can know what would be the maximum amount they won't be able to recover from their clients yet able to make a significant profit in a financial year to run a sustainable business.\n",
        "\n",
        "You can read more about how credit card companies make money by clicking on the link provided below.\n",
        "\n",
        "[How Credit Card Companies Make Money?](https://www.investopedia.com/articles/personal-finance/080916/how-credit-card-companies-make-money.asp)\n",
        "\n",
        "Making payments through credit cards is a privilege. Hence, it must be used wisely and only when there is a need. From a consumer point of view, despite having risks, credit cards have few advantages too. Click on the link provided below to learn about the advantages of having a credit card.\n",
        "\n",
        "[Advantages of a Credit Card](https://www.investopedia.com/articles/pf/10/credit-card-debit-card.asp)"
      ]
    },
    {
      "cell_type": "markdown",
      "metadata": {
        "id": "SEI3nnNZCPEu"
      },
      "source": [
        "---"
      ]
    },
    {
      "cell_type": "markdown",
      "metadata": {
        "id": "NREkvCX5CPox"
      },
      "source": [
        "### Problem Statement\n",
        "\n",
        "The credit card clients dataset is full of irregularities and incorrect values. You need to replace them with the right values. Additionally, you have to create box plots, count plots and histograms to find a specific trend (if there exists) in the dataset."
      ]
    },
    {
      "cell_type": "markdown",
      "metadata": {
        "id": "HsRmwEOoCO5m"
      },
      "source": [
        "---"
      ]
    },
    {
      "cell_type": "markdown",
      "metadata": {
        "id": "ibTCN41WcROt"
      },
      "source": [
        "### Dataset Information\n",
        "\n",
        "This dataset contains information on default payments, demographic factors, credit data, history of payment, and bill statements of credit card clients in Taiwan from April 2005 to September 2005. There are 25 features in the dataset. They are as follows:\n",
        "\n",
        "1. `ID:` Identification of each credit card client\n",
        "\n",
        "2. `LIMIT_BAL:` The maximum amount or credit (in NT dollar) a client can spend in a month (includes individual and family/supplementary credit)\n",
        "\n",
        "3. `SEX`: Gender of a client where`1` denotes male client and `2` denotes a female client\n",
        "\n",
        "4. `EDUCATION`: Education qualification of a credit card holder: \n",
        "\n",
        "      - `1` denotes that a client graduated from a graduate school \n",
        "\n",
        "      - `2` denotes that a client is a university graduate\n",
        "\n",
        "      - `3` denotes that a client is a high school graduate\n",
        "\n",
        "      - `4` denotes that a client graduated from some other institution\n",
        "\n",
        "      - `5` denotes that the graduation status of a client is unknown\n",
        "\n",
        "5. `MARRIAGE`: Marital status of a client:\n",
        "    \n",
        "      - `1` denotes that the client is married \n",
        "      \n",
        "      - `2` denotes that the client is single or unmarried \n",
        "      \n",
        "      - `3` covers all the other possibilities of marital status such as divorced, widowed etc\n",
        "\n",
        "6. `AGE`: Age of a client in years\n",
        "\n",
        "7. `PAY_0`: Repayment status of a client in September 2005\n",
        "      \n",
        "      - `-1` denotes the payment is not due \n",
        "\n",
        "      - `1` denotes that the payment is delayed by one month\n",
        "\n",
        "      - `2` denotes that the payment is delayed by two months\n",
        "\n",
        "        ...\n",
        "\n",
        "      - `8` denotes that the payment is delayed by eight months \n",
        "\n",
        "      - `9` denotes that the payment is delayed by nine months and above\n",
        "\n",
        "8. `PAY_2`: Repayment status of a client in August 2005 (scale same as above)\n",
        "\n",
        "9. `PAY_3`: Repayment status of a client in July 2005 (scale same as above)\n",
        "\n",
        "10. `PAY_4`: Repayment status of a client in June 2005 (scale same as above)\n",
        "\n",
        "11. `PAY_5`: Repayment status of a client in May 2005 (scale same as above)\n",
        "\n",
        "12. `PAY_6`: Repayment status of a client in April 2005 (scale same as above)\n",
        "\n",
        "13. `BILL_AMT1`: Amount of bill statement in September 2005 (NT dollar)\n",
        "\n",
        "14. `BILL_AMT2`: Amount of bill statement in August 2005 (NT dollar)\n",
        "\n",
        "15. `BILL_AMT3`: Amount of bill statement in July 2005 (NT dollar)\n",
        "\n",
        "16. `BILL_AMT4`: Amount of bill statement in June 2005 (NT dollar)\n",
        "\n",
        "17. `BILL_AMT5`: Amount of bill statement in May 2005 (NT dollar)\n",
        "\n",
        "18. `BILL_AMT6`: Amount of bill statement in April 2005 (NT dollar)\n",
        "\n",
        "19. `PAY_AMT1`: Amount of previous payment in September 2005 (NT dollar)\n",
        "\n",
        "20. `PAY_AMT2`: Amount of previous payment in August 2005 (NT dollar)\n",
        "\n",
        "21. `PAY_AMT3`: Amount of previous payment in July 2005 (NT dollar)\n",
        "\n",
        "22. `PAY_AMT4`: Amount of previous payment in June 2005 (NT dollar)\n",
        "\n",
        "23. `PAY_AMT5`: Amount of previous payment in May 2005 (NT dollar)\n",
        "\n",
        "24. `PAY_AMT6`: Amount of previous payment in April 2005 (NT dollar)\n",
        "\n",
        "25. `default.payment.next.month`: The default payment status of a client in the following month (October) where \n",
        "\n",
        "      - `1` means `yes` the client is a defaulter i.e., they failed to make the payment due in the following month\n",
        "\n",
        "      - `0` means `no` the client is NOT a defaulter i.e., they successfully made the payment due in the following month\n",
        "\n",
        "### Acknowledgements\n",
        "\n",
        "Lichman, M. (2013). UCI Machine Learning Repository [http://archive.ics.uci.edu/ml]. Irvine, CA: University of California, School of Information and \n",
        "Computer Science.\n",
        "\n",
        "Click on the link provided below to get the original dataset from the UCI Machine Learning repository.\n",
        "\n",
        "https://archive.ics.uci.edu/ml/datasets/default+of+credit+card+clients\n"
      ]
    },
    {
      "cell_type": "markdown",
      "metadata": {
        "id": "Qv7lPHVveNv8"
      },
      "source": [
        "---"
      ]
    },
    {
      "cell_type": "markdown",
      "metadata": {
        "id": "A_qt81POeGeX"
      },
      "source": [
        "### Things To Do\n",
        "\n",
        "- Create a Pandas DataFrame for the Credit Card Clients in Taiwan dataset.\n",
        "\n",
        "- The `EDUCATION, MARRIAGE` and `PAY_0` to `PAY_6` columns contain irregular or unwanted values. They need to be replaced with the correct values.\n",
        "\n",
        "- Create box plots and histograms for all the columns containing the continuous numeric values.\n",
        "\n",
        "- Create count plots for all the columns containing the categorical values, i.e., values such as discrete numeric values, string values, dates etc.\n",
        "\n"
      ]
    },
    {
      "cell_type": "markdown",
      "metadata": {
        "id": "iajcSBRmc_Sl"
      },
      "source": [
        "---"
      ]
    },
    {
      "cell_type": "markdown",
      "metadata": {
        "id": "4VMUDyjSZDy2"
      },
      "source": [
        "#### 1. Import Modules\n",
        "\n",
        "First import all the necessary modules to create a DataFrame and to create the required graphs."
      ]
    },
    {
      "cell_type": "code",
      "metadata": {
        "id": "HW5hcd7qbZee",
        "colab": {
          "base_uri": "https://localhost:8080/",
          "height": 71
        },
        "outputId": "f15db090-5587-493a-8700-4beb36c5501b"
      },
      "source": [
        "# Import the modules.\n",
        "import pandas as pd\n",
        "import matplotlib.pyplot as plt\n",
        "import seaborn as sns"
      ],
      "execution_count": null,
      "outputs": [
        {
          "output_type": "stream",
          "text": [
            "/usr/local/lib/python3.6/dist-packages/statsmodels/tools/_testing.py:19: FutureWarning: pandas.util.testing is deprecated. Use the functions in the public API at pandas.testing instead.\n",
            "  import pandas.util.testing as tm\n"
          ],
          "name": "stderr"
        }
      ]
    },
    {
      "cell_type": "markdown",
      "metadata": {
        "id": "JNdDoonSZI2C"
      },
      "source": [
        "---"
      ]
    },
    {
      "cell_type": "markdown",
      "metadata": {
        "id": "HQzMvWXiZGKv"
      },
      "source": [
        "#### 2. Load The Dataset\n",
        "\n",
        "Load the credit card clients dataset. Here's the link: \n",
        "\n",
        "https://student-datasets-bucket.s3.ap-south-1.amazonaws.com/whitehat-ds-datasets/uci-credit-card-fraud/UCI_Credit_Card.csv"
      ]
    },
    {
      "cell_type": "code",
      "metadata": {
        "id": "-XMAJfmOcLbi",
        "colab": {
          "base_uri": "https://localhost:8080/",
          "height": 224
        },
        "outputId": "85f9dc73-e8bc-43cf-97a0-39f64ec5cbb5"
      },
      "source": [
        "# Load the dataset.\n",
        "credit_card_clients_df=pd.read_csv(\"https://student-datasets-bucket.s3.ap-south-1.amazonaws.com/whitehat-ds-datasets/uci-credit-card-fraud/UCI_Credit_Card.csv\")\n",
        "credit_card_clients_df.head()"
      ],
      "execution_count": null,
      "outputs": [
        {
          "output_type": "execute_result",
          "data": {
            "text/html": [
              "<div>\n",
              "<style scoped>\n",
              "    .dataframe tbody tr th:only-of-type {\n",
              "        vertical-align: middle;\n",
              "    }\n",
              "\n",
              "    .dataframe tbody tr th {\n",
              "        vertical-align: top;\n",
              "    }\n",
              "\n",
              "    .dataframe thead th {\n",
              "        text-align: right;\n",
              "    }\n",
              "</style>\n",
              "<table border=\"1\" class=\"dataframe\">\n",
              "  <thead>\n",
              "    <tr style=\"text-align: right;\">\n",
              "      <th></th>\n",
              "      <th>ID</th>\n",
              "      <th>LIMIT_BAL</th>\n",
              "      <th>SEX</th>\n",
              "      <th>EDUCATION</th>\n",
              "      <th>MARRIAGE</th>\n",
              "      <th>AGE</th>\n",
              "      <th>PAY_0</th>\n",
              "      <th>PAY_2</th>\n",
              "      <th>PAY_3</th>\n",
              "      <th>PAY_4</th>\n",
              "      <th>PAY_5</th>\n",
              "      <th>PAY_6</th>\n",
              "      <th>BILL_AMT1</th>\n",
              "      <th>BILL_AMT2</th>\n",
              "      <th>BILL_AMT3</th>\n",
              "      <th>BILL_AMT4</th>\n",
              "      <th>BILL_AMT5</th>\n",
              "      <th>BILL_AMT6</th>\n",
              "      <th>PAY_AMT1</th>\n",
              "      <th>PAY_AMT2</th>\n",
              "      <th>PAY_AMT3</th>\n",
              "      <th>PAY_AMT4</th>\n",
              "      <th>PAY_AMT5</th>\n",
              "      <th>PAY_AMT6</th>\n",
              "      <th>default.payment.next.month</th>\n",
              "    </tr>\n",
              "  </thead>\n",
              "  <tbody>\n",
              "    <tr>\n",
              "      <th>0</th>\n",
              "      <td>1</td>\n",
              "      <td>20000.0</td>\n",
              "      <td>2</td>\n",
              "      <td>2</td>\n",
              "      <td>1</td>\n",
              "      <td>24</td>\n",
              "      <td>2</td>\n",
              "      <td>2</td>\n",
              "      <td>-1</td>\n",
              "      <td>-1</td>\n",
              "      <td>-2</td>\n",
              "      <td>-2</td>\n",
              "      <td>3913.0</td>\n",
              "      <td>3102.0</td>\n",
              "      <td>689.0</td>\n",
              "      <td>0.0</td>\n",
              "      <td>0.0</td>\n",
              "      <td>0.0</td>\n",
              "      <td>0.0</td>\n",
              "      <td>689.0</td>\n",
              "      <td>0.0</td>\n",
              "      <td>0.0</td>\n",
              "      <td>0.0</td>\n",
              "      <td>0.0</td>\n",
              "      <td>1</td>\n",
              "    </tr>\n",
              "    <tr>\n",
              "      <th>1</th>\n",
              "      <td>2</td>\n",
              "      <td>120000.0</td>\n",
              "      <td>2</td>\n",
              "      <td>2</td>\n",
              "      <td>2</td>\n",
              "      <td>26</td>\n",
              "      <td>-1</td>\n",
              "      <td>2</td>\n",
              "      <td>0</td>\n",
              "      <td>0</td>\n",
              "      <td>0</td>\n",
              "      <td>2</td>\n",
              "      <td>2682.0</td>\n",
              "      <td>1725.0</td>\n",
              "      <td>2682.0</td>\n",
              "      <td>3272.0</td>\n",
              "      <td>3455.0</td>\n",
              "      <td>3261.0</td>\n",
              "      <td>0.0</td>\n",
              "      <td>1000.0</td>\n",
              "      <td>1000.0</td>\n",
              "      <td>1000.0</td>\n",
              "      <td>0.0</td>\n",
              "      <td>2000.0</td>\n",
              "      <td>1</td>\n",
              "    </tr>\n",
              "    <tr>\n",
              "      <th>2</th>\n",
              "      <td>3</td>\n",
              "      <td>90000.0</td>\n",
              "      <td>2</td>\n",
              "      <td>2</td>\n",
              "      <td>2</td>\n",
              "      <td>34</td>\n",
              "      <td>0</td>\n",
              "      <td>0</td>\n",
              "      <td>0</td>\n",
              "      <td>0</td>\n",
              "      <td>0</td>\n",
              "      <td>0</td>\n",
              "      <td>29239.0</td>\n",
              "      <td>14027.0</td>\n",
              "      <td>13559.0</td>\n",
              "      <td>14331.0</td>\n",
              "      <td>14948.0</td>\n",
              "      <td>15549.0</td>\n",
              "      <td>1518.0</td>\n",
              "      <td>1500.0</td>\n",
              "      <td>1000.0</td>\n",
              "      <td>1000.0</td>\n",
              "      <td>1000.0</td>\n",
              "      <td>5000.0</td>\n",
              "      <td>0</td>\n",
              "    </tr>\n",
              "    <tr>\n",
              "      <th>3</th>\n",
              "      <td>4</td>\n",
              "      <td>50000.0</td>\n",
              "      <td>2</td>\n",
              "      <td>2</td>\n",
              "      <td>1</td>\n",
              "      <td>37</td>\n",
              "      <td>0</td>\n",
              "      <td>0</td>\n",
              "      <td>0</td>\n",
              "      <td>0</td>\n",
              "      <td>0</td>\n",
              "      <td>0</td>\n",
              "      <td>46990.0</td>\n",
              "      <td>48233.0</td>\n",
              "      <td>49291.0</td>\n",
              "      <td>28314.0</td>\n",
              "      <td>28959.0</td>\n",
              "      <td>29547.0</td>\n",
              "      <td>2000.0</td>\n",
              "      <td>2019.0</td>\n",
              "      <td>1200.0</td>\n",
              "      <td>1100.0</td>\n",
              "      <td>1069.0</td>\n",
              "      <td>1000.0</td>\n",
              "      <td>0</td>\n",
              "    </tr>\n",
              "    <tr>\n",
              "      <th>4</th>\n",
              "      <td>5</td>\n",
              "      <td>50000.0</td>\n",
              "      <td>1</td>\n",
              "      <td>2</td>\n",
              "      <td>1</td>\n",
              "      <td>57</td>\n",
              "      <td>-1</td>\n",
              "      <td>0</td>\n",
              "      <td>-1</td>\n",
              "      <td>0</td>\n",
              "      <td>0</td>\n",
              "      <td>0</td>\n",
              "      <td>8617.0</td>\n",
              "      <td>5670.0</td>\n",
              "      <td>35835.0</td>\n",
              "      <td>20940.0</td>\n",
              "      <td>19146.0</td>\n",
              "      <td>19131.0</td>\n",
              "      <td>2000.0</td>\n",
              "      <td>36681.0</td>\n",
              "      <td>10000.0</td>\n",
              "      <td>9000.0</td>\n",
              "      <td>689.0</td>\n",
              "      <td>679.0</td>\n",
              "      <td>0</td>\n",
              "    </tr>\n",
              "  </tbody>\n",
              "</table>\n",
              "</div>"
            ],
            "text/plain": [
              "   ID  LIMIT_BAL  SEX  ...  PAY_AMT5  PAY_AMT6  default.payment.next.month\n",
              "0   1    20000.0    2  ...       0.0       0.0                           1\n",
              "1   2   120000.0    2  ...       0.0    2000.0                           1\n",
              "2   3    90000.0    2  ...    1000.0    5000.0                           0\n",
              "3   4    50000.0    2  ...    1069.0    1000.0                           0\n",
              "4   5    50000.0    1  ...     689.0     679.0                           0\n",
              "\n",
              "[5 rows x 25 columns]"
            ]
          },
          "metadata": {
            "tags": []
          },
          "execution_count": 2
        }
      ]
    },
    {
      "cell_type": "markdown",
      "metadata": {
        "id": "1LsGwPIgXkpy"
      },
      "source": [
        "Find out how many rows and columns are there in the dataset."
      ]
    },
    {
      "cell_type": "code",
      "metadata": {
        "id": "9IOUoHQecnev",
        "colab": {
          "base_uri": "https://localhost:8080/",
          "height": 34
        },
        "outputId": "c4954292-c733-45d6-cc82-5335128c4945"
      },
      "source": [
        "# Number of rows and columns.\n",
        "credit_card_clients_df.shape"
      ],
      "execution_count": null,
      "outputs": [
        {
          "output_type": "execute_result",
          "data": {
            "text/plain": [
              "(30000, 25)"
            ]
          },
          "metadata": {
            "tags": []
          },
          "execution_count": 116
        }
      ]
    },
    {
      "cell_type": "markdown",
      "metadata": {
        "id": "Yhkut6Y-ZoVE"
      },
      "source": [
        "---"
      ]
    },
    {
      "cell_type": "markdown",
      "metadata": {
        "id": "YGT3D9AIZpJB"
      },
      "source": [
        "#### 3. Check For The Missing Values\n",
        "\n",
        "Now, check whether the dataset contains any `NaN` or null or missing values."
      ]
    },
    {
      "cell_type": "code",
      "metadata": {
        "id": "L5II9k_sS24S",
        "colab": {
          "base_uri": "https://localhost:8080/",
          "height": 454
        },
        "outputId": "89ccc1f3-6329-4f35-e7f5-a48fcebc565d"
      },
      "source": [
        "# Check for the missing values.\n",
        "miss_val=credit_card_clients_df.isnull().sum()\n",
        "miss_val"
      ],
      "execution_count": null,
      "outputs": [
        {
          "output_type": "execute_result",
          "data": {
            "text/plain": [
              "ID                            0\n",
              "LIMIT_BAL                     0\n",
              "SEX                           0\n",
              "EDUCATION                     0\n",
              "MARRIAGE                      0\n",
              "AGE                           0\n",
              "PAY_0                         0\n",
              "PAY_2                         0\n",
              "PAY_3                         0\n",
              "PAY_4                         0\n",
              "PAY_5                         0\n",
              "PAY_6                         0\n",
              "BILL_AMT1                     0\n",
              "BILL_AMT2                     0\n",
              "BILL_AMT3                     0\n",
              "BILL_AMT4                     0\n",
              "BILL_AMT5                     0\n",
              "BILL_AMT6                     0\n",
              "PAY_AMT1                      0\n",
              "PAY_AMT2                      0\n",
              "PAY_AMT3                      0\n",
              "PAY_AMT4                      0\n",
              "PAY_AMT5                      0\n",
              "PAY_AMT6                      0\n",
              "default.payment.next.month    0\n",
              "dtype: int64"
            ]
          },
          "metadata": {
            "tags": []
          },
          "execution_count": 117
        }
      ]
    },
    {
      "cell_type": "markdown",
      "metadata": {
        "id": "7VWeo4qrWHAK"
      },
      "source": [
        "**Q:** Are there any columns containing the missing values? If 'yes', name them.\n",
        "\n",
        "**A:** No, there are not any columns containing the missing values."
      ]
    },
    {
      "cell_type": "markdown",
      "metadata": {
        "id": "j4eOB_9EZtio"
      },
      "source": [
        "---"
      ]
    },
    {
      "cell_type": "markdown",
      "metadata": {
        "id": "BHZKoJZ8Y1z0"
      },
      "source": [
        "### 4. Data Cleaning\n",
        "\n",
        "The `EDUCATION, MARRIAGE` and `PAY_0` to `PAY_6` columns contain irregular values. You need to replace them with the correct values.\n"
      ]
    },
    {
      "cell_type": "markdown",
      "metadata": {
        "id": "d9LO_vyTZofH"
      },
      "source": [
        "---"
      ]
    },
    {
      "cell_type": "markdown",
      "metadata": {
        "id": "-S4NFBVHV9ge"
      },
      "source": [
        "#### 4.1 Education Qualification of Clients\n",
        "\n",
        "The `EDUCATION` column must contain the following five different types of values:\n",
        "\n",
        "- `1` denotes that a client graduated from a graduate school \n",
        "\n",
        "- `2` denotes that a client is a university graduate\n",
        "\n",
        "- `3` denotes that a client is a high school graduate\n",
        "\n",
        "- `4` denotes that a client graduated from some other institution\n",
        "\n",
        "- `5` denotes that the graduation status of a client is unknown\n",
        "\n",
        "If there are any other values in the `EDUCATION` column, replace them with `5`. Also, get the counts of each value.\n",
        "\n",
        "Calculate the counts of each value in the `EDUCATION` column."
      ]
    },
    {
      "cell_type": "code",
      "metadata": {
        "id": "tWxRPBq5uEOG",
        "colab": {
          "base_uri": "https://localhost:8080/",
          "height": 151
        },
        "outputId": "e5eda575-e799-4b3b-c32f-7f2c3c07b0c6"
      },
      "source": [
        "# Counts of each value in the 'EDUCATION' column. \n",
        "credit_card_clients_df['EDUCATION'].value_counts()"
      ],
      "execution_count": null,
      "outputs": [
        {
          "output_type": "execute_result",
          "data": {
            "text/plain": [
              "2    14030\n",
              "1    10585\n",
              "3     4917\n",
              "5      280\n",
              "4      123\n",
              "6       51\n",
              "0       14\n",
              "Name: EDUCATION, dtype: int64"
            ]
          },
          "metadata": {
            "tags": []
          },
          "execution_count": 118
        }
      ]
    },
    {
      "cell_type": "markdown",
      "metadata": {
        "id": "hLPc25NiNxPh"
      },
      "source": [
        "**Q:** What value(s) is/are contained in the `EDUCATION` column apart from the values `1` to `5`? And what will you do with them?\n",
        "\n",
        "**A:** There are values with 0 and 6 and they are unwanted values. They need to replace with 5."
      ]
    },
    {
      "cell_type": "markdown",
      "metadata": {
        "id": "urfApLN5i-Mz"
      },
      "source": [
        "**Q:** What is the data-type for the values contained in the `EDUCATION` column?\n",
        "\n",
        "**A:** panda.core.series.Series"
      ]
    },
    {
      "cell_type": "markdown",
      "metadata": {
        "id": "LnAx86MMxZVE"
      },
      "source": [
        "# Check the data-type of the 'EDUCATION' column."
      ]
    },
    {
      "cell_type": "code",
      "metadata": {
        "id": "-JJX4hJCx2jW",
        "colab": {
          "base_uri": "https://localhost:8080/",
          "height": 118
        },
        "outputId": "54f3497a-5b2f-49e8-ab28-87e351362080"
      },
      "source": [
        "# Replace the unwanted values in the 'EDUCATION' column. Ignore if there are none.\n",
        "credit_card_clients_df.loc[credit_card_clients_df[\"EDUCATION\"]==0,\"EDUCATION\"]=5\n",
        "credit_card_clients_df.loc[credit_card_clients_df[\"EDUCATION\"]==6,\"EDUCATION\"]=5\n",
        "credit_card_clients_df[\"EDUCATION\"].value_counts()"
      ],
      "execution_count": null,
      "outputs": [
        {
          "output_type": "execute_result",
          "data": {
            "text/plain": [
              "2    14030\n",
              "1    10585\n",
              "3     4917\n",
              "5      345\n",
              "4      123\n",
              "Name: EDUCATION, dtype: int64"
            ]
          },
          "metadata": {
            "tags": []
          },
          "execution_count": 170
        }
      ]
    },
    {
      "cell_type": "markdown",
      "metadata": {
        "id": "IF0utc8CJ1D5"
      },
      "source": [
        "Calculate the percentage of each value in the `EDUCATION` column."
      ]
    },
    {
      "cell_type": "code",
      "metadata": {
        "id": "e1zqGseoWbND",
        "colab": {
          "base_uri": "https://localhost:8080/",
          "height": 134
        },
        "outputId": "3ccf6b7c-7e70-4a18-823d-7437bec64203"
      },
      "source": [
        "# Percentage of each value in the 'EDUCATION' column.\n",
        "percentage=credit_card_clients_df['EDUCATION'].value_counts()*100/credit_card_clients_df.shape[0]\n",
        "print(percentage)"
      ],
      "execution_count": null,
      "outputs": [
        {
          "output_type": "stream",
          "text": [
            "2    46.766667\n",
            "1    35.283333\n",
            "3    16.390000\n",
            "5     1.103333\n",
            "4     0.410000\n",
            "0     0.046667\n",
            "Name: EDUCATION, dtype: float64\n"
          ],
          "name": "stdout"
        }
      ]
    },
    {
      "cell_type": "markdown",
      "metadata": {
        "id": "VnlJ8xZYWhhK"
      },
      "source": [
        "**Q:** What percent of clients were university graduates?\n",
        "\n",
        "**A:** 46.76% of the clients were university graduates."
      ]
    },
    {
      "cell_type": "markdown",
      "metadata": {
        "id": "glaDE9aQJ-0c"
      },
      "source": [
        "Create a count plot for the `EDUCATION` column."
      ]
    },
    {
      "cell_type": "code",
      "metadata": {
        "id": "XBSKyKnRWmjG",
        "colab": {
          "base_uri": "https://localhost:8080/",
          "height": 551
        },
        "outputId": "ab541d01-7082-48af-c7c4-afe8844a2a4d"
      },
      "source": [
        "# Count plot for the 'EDUCATION' column.\n",
        "plt.figure(figsize=(16,9))\n",
        "sns.countplot(x='EDUCATION',data=credit_card_clients_df)\n",
        "plt.show()"
      ],
      "execution_count": null,
      "outputs": [
        {
          "output_type": "display_data",
          "data": {
            "image/png": "[encoded data removed]",
            "text/plain": [
              "<Figure size 1152x648 with 1 Axes>"
            ]
          },
          "metadata": {
            "tags": [],
            "needs_background": "light"
          }
        }
      ]
    },
    {
      "cell_type": "markdown",
      "metadata": {
        "id": "52awGQaUZhia"
      },
      "source": [
        "---"
      ]
    },
    {
      "cell_type": "markdown",
      "metadata": {
        "id": "h9Evm0hFFEsk"
      },
      "source": [
        "#### 4.3 The `info()` Function\n",
        "\n",
        "You may require to check the data-type of every column. So, instead of applying the `dtype` keyword one-by-one for each column, you can use the `info()` function to check the data-types of all the columns at once. It also tells you the total number of rows and columns in a DataFrame. Here's the syntax:\n",
        "\n",
        "**Syntax:** `data_frame.info()`\n",
        "\n",
        "where `data_frame` is a variable storing some Pandas DataFrame.\n",
        "\n",
        "**Note:** This function is applicable only to Pandas DataFrame."
      ]
    },
    {
      "cell_type": "code",
      "metadata": {
        "id": "JqTMqAOwFX03",
        "colab": {
          "base_uri": "https://localhost:8080/",
          "height": 554
        },
        "outputId": "28ae2361-8972-40d5-c17e-40e17c2f4369"
      },
      "source": [
        "# Check the data-types of all the columns using the 'info()' function.\n",
        "credit_card_clients_df.info()"
      ],
      "execution_count": null,
      "outputs": [
        {
          "output_type": "stream",
          "text": [
            "<class 'pandas.core.frame.DataFrame'>\n",
            "RangeIndex: 30000 entries, 0 to 29999\n",
            "Data columns (total 25 columns):\n",
            " #   Column                      Non-Null Count  Dtype  \n",
            "---  ------                      --------------  -----  \n",
            " 0   ID                          30000 non-null  int64  \n",
            " 1   LIMIT_BAL                   30000 non-null  float64\n",
            " 2   SEX                         30000 non-null  int64  \n",
            " 3   EDUCATION                   30000 non-null  int64  \n",
            " 4   MARRIAGE                    30000 non-null  int64  \n",
            " 5   AGE                         30000 non-null  int64  \n",
            " 6   PAY_0                       30000 non-null  int64  \n",
            " 7   PAY_2                       30000 non-null  int64  \n",
            " 8   PAY_3                       30000 non-null  int64  \n",
            " 9   PAY_4                       30000 non-null  int64  \n",
            " 10  PAY_5                       30000 non-null  int64  \n",
            " 11  PAY_6                       30000 non-null  int64  \n",
            " 12  BILL_AMT1                   30000 non-null  float64\n",
            " 13  BILL_AMT2                   30000 non-null  float64\n",
            " 14  BILL_AMT3                   30000 non-null  float64\n",
            " 15  BILL_AMT4                   30000 non-null  float64\n",
            " 16  BILL_AMT5                   30000 non-null  float64\n",
            " 17  BILL_AMT6                   30000 non-null  float64\n",
            " 18  PAY_AMT1                    30000 non-null  float64\n",
            " 19  PAY_AMT2                    30000 non-null  float64\n",
            " 20  PAY_AMT3                    30000 non-null  float64\n",
            " 21  PAY_AMT4                    30000 non-null  float64\n",
            " 22  PAY_AMT5                    30000 non-null  float64\n",
            " 23  PAY_AMT6                    30000 non-null  float64\n",
            " 24  default.payment.next.month  30000 non-null  int64  \n",
            "dtypes: float64(13), int64(12)\n",
            "memory usage: 5.7 MB\n"
          ],
          "name": "stdout"
        }
      ]
    },
    {
      "cell_type": "markdown",
      "metadata": {
        "id": "TEz4InrYFhaZ"
      },
      "source": [
        "As you can see, the data-types of all the columns are now available to you at once."
      ]
    },
    {
      "cell_type": "markdown",
      "metadata": {
        "id": "_goNOFwUY0R2"
      },
      "source": [
        "---"
      ]
    },
    {
      "cell_type": "markdown",
      "metadata": {
        "id": "XrJJiH44ZuNE"
      },
      "source": [
        "#### 4.4 Gender of Credit Card Holders\n",
        "\n",
        "The `SEX` column must have the following two types of values in the dataset:\n",
        "\n",
        "- `1` denotes the credit card holder is a man.\n",
        "\n",
        "- `2` denotes the credit card holder is a woman.\n",
        "\n",
        "If there is any other value in the `SEX` column, then remove the row containing that value.\n",
        "\n",
        "Calculate the number of male and female clients."
      ]
    },
    {
      "cell_type": "code",
      "metadata": {
        "id": "-ljjfNGwd0im",
        "colab": {
          "base_uri": "https://localhost:8080/",
          "height": 67
        },
        "outputId": "2dee9cb8-398f-413b-b1a5-0fd1fa3ee4ff"
      },
      "source": [
        "# Counts of male and female clients.\n",
        "credit_card_clients_df[\"SEX\"].value_counts()"
      ],
      "execution_count": null,
      "outputs": [
        {
          "output_type": "execute_result",
          "data": {
            "text/plain": [
              "2    18112\n",
              "1    11888\n",
              "Name: SEX, dtype: int64"
            ]
          },
          "metadata": {
            "tags": []
          },
          "execution_count": 123
        }
      ]
    },
    {
      "cell_type": "code",
      "metadata": {
        "id": "wTS7iQjTXQjJ"
      },
      "source": [
        "# Drop the rows containing the unwanted values. Ignore this code cell if there is/are no null or unwanted value(s)."
      ],
      "execution_count": null,
      "outputs": []
    },
    {
      "cell_type": "markdown",
      "metadata": {
        "id": "2jGjziu9KpI0"
      },
      "source": [
        "Calculate the percentage of male and female clients."
      ]
    },
    {
      "cell_type": "code",
      "metadata": {
        "id": "zQP1sMZxVYhc",
        "colab": {
          "base_uri": "https://localhost:8080/",
          "height": 67
        },
        "outputId": "1cbd1a49-2a9f-4f2a-fcb8-47333f75effd"
      },
      "source": [
        "# Percentage of male and female clients.\n",
        "client_gender_percent=credit_card_clients_df[\"SEX\"].value_counts()*100/credit_card_clients_df[\"SEX\"].shape[0]\n",
        "round(client_gender_percent,2)"
      ],
      "execution_count": null,
      "outputs": [
        {
          "output_type": "execute_result",
          "data": {
            "text/plain": [
              "2    60.37\n",
              "1    39.63\n",
              "Name: SEX, dtype: float64"
            ]
          },
          "metadata": {
            "tags": []
          },
          "execution_count": 125
        }
      ]
    },
    {
      "cell_type": "markdown",
      "metadata": {
        "id": "fYnNN_I3rJC0"
      },
      "source": [
        "**Q:** What  of the credit card holders were males and females?\n",
        "\n",
        "**A:** 60.37% of the females are credit card holder and 39.63 % of the males are credit card holders"
      ]
    },
    {
      "cell_type": "markdown",
      "metadata": {
        "id": "IGJIFah8KuGU"
      },
      "source": [
        "Create a count plot for the gender of clients.\n"
      ]
    },
    {
      "cell_type": "code",
      "metadata": {
        "id": "nRBzytfUWJJC",
        "colab": {
          "base_uri": "https://localhost:8080/",
          "height": 551
        },
        "outputId": "7b4cf547-6076-4389-fa4e-11e9e5fa240f"
      },
      "source": [
        "# Count plot for the gender of clients.\n",
        "plt.figure(figsize=(16,9))\n",
        "sns.countplot(x='SEX',data=credit_card_clients_df)\n",
        "plt.show()"
      ],
      "execution_count": null,
      "outputs": [
        {
          "output_type": "display_data",
          "data": {
            "image/png": "[encoded data removed]",
            "text/plain": [
              "<Figure size 1152x648 with 1 Axes>"
            ]
          },
          "metadata": {
            "tags": [],
            "needs_background": "light"
          }
        }
      ]
    },
    {
      "cell_type": "markdown",
      "metadata": {
        "id": "7Js_LyQeW7av"
      },
      "source": [
        "---"
      ]
    },
    {
      "cell_type": "markdown",
      "metadata": {
        "id": "d-uGntI1W8Mc"
      },
      "source": [
        "#### 4.5 Marital Status of Clients\n",
        "\n",
        "The `MARRIAGE` column the contain the following three different types of values:\n",
        "\n",
        " - `1` denotes that a client is married\n",
        " \n",
        " - `2` denotes that a client is single\n",
        " \n",
        " - `3` denotes all other possible marital statuses such as divorced, widowed etc.\n",
        "\n",
        "If there are any other values, then they should be replaced with `3` because it covers all the other possible cases of marital status of a client.\n",
        "\n",
        "Calculate the counts of each value in the `MARRIAGE` column."
      ]
    },
    {
      "cell_type": "code",
      "metadata": {
        "id": "X-n0yzoLXArk",
        "colab": {
          "base_uri": "https://localhost:8080/",
          "height": 101
        },
        "outputId": "f68cd489-5205-48ed-caa3-5a7832d3dc43"
      },
      "source": [
        "# Counts of each value in the 'MARRIAGE' column.\n",
        "credit_card_clients_df['MARRIAGE'].value_counts()"
      ],
      "execution_count": null,
      "outputs": [
        {
          "output_type": "execute_result",
          "data": {
            "text/plain": [
              "2    15964\n",
              "1    13659\n",
              "3      323\n",
              "0       54\n",
              "Name: MARRIAGE, dtype: int64"
            ]
          },
          "metadata": {
            "tags": []
          },
          "execution_count": 127
        }
      ]
    },
    {
      "cell_type": "markdown",
      "metadata": {
        "id": "xOq_uYEcM43G"
      },
      "source": [
        "**Q:** What value(s) is/are contained in the `MARRIAGE` column apart from the values `1, 2` and `3`? What are their counts?\n",
        "\n",
        "**A:** 54 rows of Marriage column has 0 values \n",
        " "
      ]
    },
    {
      "cell_type": "code",
      "metadata": {
        "id": "v-OzFIYCtcKf",
        "colab": {
          "base_uri": "https://localhost:8080/",
          "height": 84
        },
        "outputId": "6c01dcb2-2f50-4bd5-e4a1-0803ca0db16f"
      },
      "source": [
        "# Replace the unwanted values in the 'MARRIAGE' column. Ignore if there are none.\n",
        "credit_card_clients_df.loc[credit_card_clients_df[\"MARRIAGE\"]==0,\"EDUCATION\"]=3\n",
        "credit_card_clients_df[\"MARRIAGE\"].value_counts()"
      ],
      "execution_count": null,
      "outputs": [
        {
          "output_type": "execute_result",
          "data": {
            "text/plain": [
              "2    15964\n",
              "1    13659\n",
              "3      377\n",
              "Name: MARRIAGE, dtype: int64"
            ]
          },
          "metadata": {
            "tags": []
          },
          "execution_count": 172
        }
      ]
    },
    {
      "cell_type": "markdown",
      "metadata": {
        "id": "x5K2b9slLw4d"
      },
      "source": [
        "Calculate the percentage of the values in the `MARRIAGE` column."
      ]
    },
    {
      "cell_type": "code",
      "metadata": {
        "id": "LrtddCErXOdf",
        "colab": {
          "base_uri": "https://localhost:8080/",
          "height": 84
        },
        "outputId": "2ea8ded7-46ca-44ee-cc77-016b76d4882b"
      },
      "source": [
        "# Percentage of the values in the 'MARRIAGE' column.\n",
        "percentage=credit_card_clients_df['MARRIAGE'].value_counts()*100/credit_card_clients_df.shape[0]\n",
        "print(percentage)"
      ],
      "execution_count": null,
      "outputs": [
        {
          "output_type": "stream",
          "text": [
            "2    53.213333\n",
            "1    45.530000\n",
            "3     1.256667\n",
            "Name: MARRIAGE, dtype: float64\n"
          ],
          "name": "stdout"
        }
      ]
    },
    {
      "cell_type": "markdown",
      "metadata": {
        "id": "WBcegrFxXTwX"
      },
      "source": [
        "**Q:** What  of clients were married?\n",
        "\n",
        "**A:** 45.53% of the clients were married."
      ]
    },
    {
      "cell_type": "markdown",
      "metadata": {
        "id": "oI7WUXNaM2zP"
      },
      "source": [
        "Create a count plot for the `MARRIAGE` column."
      ]
    },
    {
      "cell_type": "code",
      "metadata": {
        "id": "gGV27gv-XgqW",
        "colab": {
          "base_uri": "https://localhost:8080/",
          "height": 551
        },
        "outputId": "c76e299c-28f0-4ee5-aca3-6c549dace19f"
      },
      "source": [
        "# Count plot for the 'MARRIAGE' column.\n",
        "plt.figure(figsize=(16,9))\n",
        "sns.countplot(x=\"MARRIAGE\",data=credit_card_clients_df)\n",
        "plt.show()"
      ],
      "execution_count": null,
      "outputs": [
        {
          "output_type": "display_data",
          "data": {
            "image/png": "[encoded data removed]",
            "text/plain": [
              "<Figure size 1152x648 with 1 Axes>"
            ]
          },
          "metadata": {
            "tags": [],
            "needs_background": "light"
          }
        }
      ]
    },
    {
      "cell_type": "markdown",
      "metadata": {
        "id": "ScpyyHo0Wlrm"
      },
      "source": [
        "---"
      ]
    },
    {
      "cell_type": "markdown",
      "metadata": {
        "id": "PtrG6EM4buG1"
      },
      "source": [
        "#### 4.6 Repayment Status Of Clients\n",
        "\n",
        "The `PAY_0` to `PAY_6` columns have the following types of values:\n",
        "\n",
        "- `-1` denotes that the payment is not due\n",
        "\n",
        "- `1` denotes that the payment is delayed by one month\n",
        "\n",
        "- `2` denotes that the payment is delayed by two months\n",
        "\n",
        "  $\\dots$\n",
        "\n",
        "- `8` denotes that the payment is delayed by eight months \n",
        "\n",
        "- `9` denotes that the payment is delayed by nine months and above\n",
        "\n",
        "You need to replace all the negative values in the `PAY_0` to `PAY_6` columns with `0` where `0` denotes all the payments made duly.\n",
        "\n",
        "Calculate counts for the repayment status in September 2005."
      ]
    },
    {
      "cell_type": "code",
      "metadata": {
        "id": "WW3Eq8x5CLSm",
        "colab": {
          "base_uri": "https://localhost:8080/",
          "height": 218
        },
        "outputId": "6fb054b5-a632-4dde-84be-5e79be57e3ce"
      },
      "source": [
        "# Counts for the repayment status in September 2005.\n",
        "credit_card_clients_df['PAY_0'].value_counts()"
      ],
      "execution_count": null,
      "outputs": [
        {
          "output_type": "execute_result",
          "data": {
            "text/plain": [
              " 0    14737\n",
              "-1     5686\n",
              " 1     3688\n",
              "-2     2759\n",
              " 2     2667\n",
              " 3      322\n",
              " 4       76\n",
              " 5       26\n",
              " 8       19\n",
              " 6       11\n",
              " 7        9\n",
              "Name: PAY_0, dtype: int64"
            ]
          },
          "metadata": {
            "tags": []
          },
          "execution_count": 131
        }
      ]
    },
    {
      "cell_type": "code",
      "metadata": {
        "id": "Rg6mBmyNB9ow",
        "colab": {
          "base_uri": "https://localhost:8080/",
          "height": 185
        },
        "outputId": "538a853f-6eb4-4527-e396-2f748525dada"
      },
      "source": [
        "# Replace the negative values with 0. Ignore if there are none.\n",
        "credit_card_clients_df.loc[credit_card_clients_df[\"EDUCATION\"]<0,\"PAY_0\"]=0\n",
        "credit_card_clients_df[\"PAY_0\"].value_counts()"
      ],
      "execution_count": null,
      "outputs": [
        {
          "output_type": "execute_result",
          "data": {
            "text/plain": [
              "0    23182\n",
              "1     3688\n",
              "2     2667\n",
              "3      322\n",
              "4       76\n",
              "5       26\n",
              "8       19\n",
              "6       11\n",
              "7        9\n",
              "Name: PAY_0, dtype: int64"
            ]
          },
          "metadata": {
            "tags": []
          },
          "execution_count": 173
        }
      ]
    },
    {
      "cell_type": "markdown",
      "metadata": {
        "id": "eIW3r0BxMwAt"
      },
      "source": [
        "Calculate the percentages for the repayment status in September 2005."
      ]
    },
    {
      "cell_type": "code",
      "metadata": {
        "id": "aYQovf-CcCV9",
        "colab": {
          "base_uri": "https://localhost:8080/",
          "height": 185
        },
        "outputId": "63c739a7-d692-47ab-d87a-556f318cbe56"
      },
      "source": [
        "# Percentages for the repayment status in September 2005.\n",
        "percent=credit_card_clients_df[\"PAY_0\"].value_counts()*100/credit_card_clients_df.shape[0]\n",
        "percent"
      ],
      "execution_count": null,
      "outputs": [
        {
          "output_type": "execute_result",
          "data": {
            "text/plain": [
              "0    77.273333\n",
              "1    12.293333\n",
              "2     8.890000\n",
              "3     1.073333\n",
              "4     0.253333\n",
              "5     0.086667\n",
              "8     0.063333\n",
              "6     0.036667\n",
              "7     0.030000\n",
              "Name: PAY_0, dtype: float64"
            ]
          },
          "metadata": {
            "tags": []
          },
          "execution_count": 133
        }
      ]
    },
    {
      "cell_type": "markdown",
      "metadata": {
        "id": "GTTRyp3gNHSm"
      },
      "source": [
        "Create a count plot for the repayment status in September 2005."
      ]
    },
    {
      "cell_type": "code",
      "metadata": {
        "id": "PvKDYqjydlm8",
        "colab": {
          "base_uri": "https://localhost:8080/",
          "height": 552
        },
        "outputId": "afee027d-0083-4d9e-cb23-82b35342ba11"
      },
      "source": [
        "# Count plot for the repayment status in September 2005.\n",
        "plt.figure(figsize=(16,9))\n",
        "sns.countplot(x='PAY_0',data=credit_card_clients_df)\n",
        "plt.show()"
      ],
      "execution_count": null,
      "outputs": [
        {
          "output_type": "display_data",
          "data": {
            "image/png": "[encoded data removed]",
            "text/plain": [
              "<Figure size 1152x648 with 1 Axes>"
            ]
          },
          "metadata": {
            "tags": [],
            "needs_background": "light"
          }
        }
      ]
    },
    {
      "cell_type": "markdown",
      "metadata": {
        "id": "1JWTAwJiNK67"
      },
      "source": [
        "Calculate counts for the repayment status in August 2005."
      ]
    },
    {
      "cell_type": "code",
      "metadata": {
        "id": "AnFM524ODbg_",
        "colab": {
          "base_uri": "https://localhost:8080/",
          "height": 218
        },
        "outputId": "9415ff30-00f9-4988-dbc9-07f01a90e2ef"
      },
      "source": [
        "# Counts for the repayment status in August 2005.\n",
        "credit_card_clients_df['PAY_2'].value_counts()"
      ],
      "execution_count": null,
      "outputs": [
        {
          "output_type": "execute_result",
          "data": {
            "text/plain": [
              " 0    15730\n",
              "-1     6050\n",
              " 2     3927\n",
              "-2     3782\n",
              " 3      326\n",
              " 4       99\n",
              " 1       28\n",
              " 5       25\n",
              " 7       20\n",
              " 6       12\n",
              " 8        1\n",
              "Name: PAY_2, dtype: int64"
            ]
          },
          "metadata": {
            "tags": []
          },
          "execution_count": 135
        }
      ]
    },
    {
      "cell_type": "code",
      "metadata": {
        "id": "9vaz3qWnDs5f",
        "colab": {
          "base_uri": "https://localhost:8080/",
          "height": 185
        },
        "outputId": "2bc27ec3-2e88-4d18-92c6-6b79fd8b173a"
      },
      "source": [
        "# Replace the negative values with 0. Ignore if there are none.\n",
        "credit_card_clients_df.loc[credit_card_clients_df[\"PAY_2\"]<0,\"PAY_2\"]=0\n",
        "credit_card_clients_df[\"PAY_2\"].value_counts()"
      ],
      "execution_count": null,
      "outputs": [
        {
          "output_type": "execute_result",
          "data": {
            "text/plain": [
              "0    25562\n",
              "2     3927\n",
              "3      326\n",
              "4       99\n",
              "1       28\n",
              "5       25\n",
              "7       20\n",
              "6       12\n",
              "8        1\n",
              "Name: PAY_2, dtype: int64"
            ]
          },
          "metadata": {
            "tags": []
          },
          "execution_count": 174
        }
      ]
    },
    {
      "cell_type": "markdown",
      "metadata": {
        "id": "waYOkDfRNO6q"
      },
      "source": [
        "Calculate the percentages for the repayment status in August 2005."
      ]
    },
    {
      "cell_type": "code",
      "metadata": {
        "id": "MVQlyaxAd0IO",
        "colab": {
          "base_uri": "https://localhost:8080/",
          "height": 185
        },
        "outputId": "cb0effbf-a805-4127-9b07-4f18c4caf9e0"
      },
      "source": [
        "# Percentages for the repayment status in August 2005.\n",
        "percent1=credit_card_clients_df[\"PAY_2\"].value_counts()*100/credit_card_clients_df.shape[0]\n",
        "percent1"
      ],
      "execution_count": null,
      "outputs": [
        {
          "output_type": "execute_result",
          "data": {
            "text/plain": [
              "0    85.206667\n",
              "2    13.090000\n",
              "3     1.086667\n",
              "4     0.330000\n",
              "1     0.093333\n",
              "5     0.083333\n",
              "7     0.066667\n",
              "6     0.040000\n",
              "8     0.003333\n",
              "Name: PAY_2, dtype: float64"
            ]
          },
          "metadata": {
            "tags": []
          },
          "execution_count": 137
        }
      ]
    },
    {
      "cell_type": "markdown",
      "metadata": {
        "id": "zycFX6KUNcqV"
      },
      "source": [
        "Create a count plot for the repayment status in August 2005."
      ]
    },
    {
      "cell_type": "code",
      "metadata": {
        "id": "zeWIfaBVd6BQ",
        "colab": {
          "base_uri": "https://localhost:8080/",
          "height": 552
        },
        "outputId": "a469961d-6b6d-4b67-ac99-9f55ef8c4d73"
      },
      "source": [
        "# Count plot for the repayment status in August 2005.\n",
        "plt.figure(figsize=(16,9))\n",
        "sns.countplot(x='PAY_2',data=credit_card_clients_df)\n",
        "plt.show()"
      ],
      "execution_count": null,
      "outputs": [
        {
          "output_type": "display_data",
          "data": {
            "image/png": "[encoded data removed]",
            "text/plain": [
              "<Figure size 1152x648 with 1 Axes>"
            ]
          },
          "metadata": {
            "tags": [],
            "needs_background": "light"
          }
        }
      ]
    },
    {
      "cell_type": "markdown",
      "metadata": {
        "id": "5ydc97v9Ngh5"
      },
      "source": [
        "Calculate counts for the repayment status in July 2005."
      ]
    },
    {
      "cell_type": "code",
      "metadata": {
        "id": "y1zbfIYPEnYp",
        "colab": {
          "base_uri": "https://localhost:8080/",
          "height": 218
        },
        "outputId": "6c777cc6-a3f5-4280-f67a-70ce3bb63ace"
      },
      "source": [
        "# Counts for the repayment status in July 2005.\n",
        "credit_card_clients_df[\"PAY_3\"].value_counts()"
      ],
      "execution_count": null,
      "outputs": [
        {
          "output_type": "execute_result",
          "data": {
            "text/plain": [
              " 0    15764\n",
              "-1     5938\n",
              "-2     4085\n",
              " 2     3819\n",
              " 3      240\n",
              " 4       76\n",
              " 7       27\n",
              " 6       23\n",
              " 5       21\n",
              " 1        4\n",
              " 8        3\n",
              "Name: PAY_3, dtype: int64"
            ]
          },
          "metadata": {
            "tags": []
          },
          "execution_count": 139
        }
      ]
    },
    {
      "cell_type": "code",
      "metadata": {
        "id": "nyEnByYAEsZ8",
        "colab": {
          "base_uri": "https://localhost:8080/",
          "height": 185
        },
        "outputId": "f26b8e59-0022-4f82-ba5f-791ca91ecf91"
      },
      "source": [
        "# Replace the negative values with 0. Ignore if there are none.\n",
        "credit_card_clients_df.loc[credit_card_clients_df[\"PAY_3\"]<0,\"PAY_3\"]=0\n",
        "credit_card_clients_df[\"PAY_3\"].value_counts()"
      ],
      "execution_count": null,
      "outputs": [
        {
          "output_type": "execute_result",
          "data": {
            "text/plain": [
              "0    25787\n",
              "2     3819\n",
              "3      240\n",
              "4       76\n",
              "7       27\n",
              "6       23\n",
              "5       21\n",
              "1        4\n",
              "8        3\n",
              "Name: PAY_3, dtype: int64"
            ]
          },
          "metadata": {
            "tags": []
          },
          "execution_count": 175
        }
      ]
    },
    {
      "cell_type": "markdown",
      "metadata": {
        "id": "zu8HvlV-NlcD"
      },
      "source": [
        "Calculate the percentages for the repayment status in July 2005."
      ]
    },
    {
      "cell_type": "code",
      "metadata": {
        "id": "NmYog7EBeFFI",
        "colab": {
          "base_uri": "https://localhost:8080/",
          "height": 185
        },
        "outputId": "764c9b17-8021-4d31-fbd6-ffdce380da69"
      },
      "source": [
        "# Percentages for the repayment status in July 2005.\n",
        "percent2=credit_card_clients_df[\"PAY_3\"].value_counts()*100/credit_card_clients_df.shape[0]\n",
        "percent2"
      ],
      "execution_count": null,
      "outputs": [
        {
          "output_type": "execute_result",
          "data": {
            "text/plain": [
              "0    85.956667\n",
              "2    12.730000\n",
              "3     0.800000\n",
              "4     0.253333\n",
              "7     0.090000\n",
              "6     0.076667\n",
              "5     0.070000\n",
              "1     0.013333\n",
              "8     0.010000\n",
              "Name: PAY_3, dtype: float64"
            ]
          },
          "metadata": {
            "tags": []
          },
          "execution_count": 141
        }
      ]
    },
    {
      "cell_type": "markdown",
      "metadata": {
        "id": "kTF1rmBfNscD"
      },
      "source": [
        "Create a count plot for the repayment status in August 2005."
      ]
    },
    {
      "cell_type": "code",
      "metadata": {
        "id": "C5gxMuueeBSd",
        "colab": {
          "base_uri": "https://localhost:8080/",
          "height": 552
        },
        "outputId": "e062eabd-b4d1-44d5-ab32-292062c92acf"
      },
      "source": [
        "# Count plot for the repayment status in July 2005.\n",
        "plt.figure(figsize=(16,9))\n",
        "sns.countplot(x=\"PAY_3\",data=credit_card_clients_df)\n",
        "plt.show()"
      ],
      "execution_count": null,
      "outputs": [
        {
          "output_type": "display_data",
          "data": {
            "image/png": "[encoded data removed]",
            "text/plain": [
              "<Figure size 1152x648 with 1 Axes>"
            ]
          },
          "metadata": {
            "tags": [],
            "needs_background": "light"
          }
        }
      ]
    },
    {
      "cell_type": "markdown",
      "metadata": {
        "id": "jv9U84BlNwBQ"
      },
      "source": [
        "Calculate counts for the repayment status in June 2005."
      ]
    },
    {
      "cell_type": "code",
      "metadata": {
        "id": "qWmLCIryHn1p",
        "colab": {
          "base_uri": "https://localhost:8080/",
          "height": 218
        },
        "outputId": "21f3c5de-0f6c-4fbf-f6b7-1df73dd3bb60"
      },
      "source": [
        "# Counts for the repayment status in June 2005.\n",
        "credit_card_clients_df[\"PAY_4\"].value_counts()"
      ],
      "execution_count": null,
      "outputs": [
        {
          "output_type": "execute_result",
          "data": {
            "text/plain": [
              " 0    16455\n",
              "-1     5687\n",
              "-2     4348\n",
              " 2     3159\n",
              " 3      180\n",
              " 4       69\n",
              " 7       58\n",
              " 5       35\n",
              " 6        5\n",
              " 8        2\n",
              " 1        2\n",
              "Name: PAY_4, dtype: int64"
            ]
          },
          "metadata": {
            "tags": []
          },
          "execution_count": 143
        }
      ]
    },
    {
      "cell_type": "code",
      "metadata": {
        "id": "1UXBAn4gHzxB",
        "colab": {
          "base_uri": "https://localhost:8080/",
          "height": 185
        },
        "outputId": "3168c7e2-73a7-4ef3-bfb9-ade94cc5a3f4"
      },
      "source": [
        "# Replace the negative values with 0. Ignore if there are none.\n",
        "credit_card_clients_df.loc[credit_card_clients_df[\"PAY_4\"]<0,\"PAY_4\"]=0\n",
        "credit_card_clients_df[\"PAY_4\"].value_counts()"
      ],
      "execution_count": null,
      "outputs": [
        {
          "output_type": "execute_result",
          "data": {
            "text/plain": [
              "0    26490\n",
              "2     3159\n",
              "3      180\n",
              "4       69\n",
              "7       58\n",
              "5       35\n",
              "6        5\n",
              "8        2\n",
              "1        2\n",
              "Name: PAY_4, dtype: int64"
            ]
          },
          "metadata": {
            "tags": []
          },
          "execution_count": 176
        }
      ]
    },
    {
      "cell_type": "markdown",
      "metadata": {
        "id": "49WP3OYuNz4H"
      },
      "source": [
        "Calculate the percentages for the repayment status in June 2005."
      ]
    },
    {
      "cell_type": "code",
      "metadata": {
        "id": "UaiRQZvleWtl",
        "colab": {
          "base_uri": "https://localhost:8080/",
          "height": 185
        },
        "outputId": "9c61a2ef-94d4-49eb-a146-2c0a1c9db355"
      },
      "source": [
        "# Percentages for the repayment status in June 2005.\n",
        "percent3=credit_card_clients_df[\"PAY_4\"].value_counts()*100/credit_card_clients_df.shape[0]\n",
        "percent3"
      ],
      "execution_count": null,
      "outputs": [
        {
          "output_type": "execute_result",
          "data": {
            "text/plain": [
              "0    88.300000\n",
              "2    10.530000\n",
              "3     0.600000\n",
              "4     0.230000\n",
              "7     0.193333\n",
              "5     0.116667\n",
              "6     0.016667\n",
              "8     0.006667\n",
              "1     0.006667\n",
              "Name: PAY_4, dtype: float64"
            ]
          },
          "metadata": {
            "tags": []
          },
          "execution_count": 145
        }
      ]
    },
    {
      "cell_type": "markdown",
      "metadata": {
        "id": "6xYYVz-xN5Qu"
      },
      "source": [
        "Create a count plot for the repayment status in June 2005."
      ]
    },
    {
      "cell_type": "code",
      "metadata": {
        "id": "EK8NnT3yemA8",
        "colab": {
          "base_uri": "https://localhost:8080/",
          "height": 552
        },
        "outputId": "b980378c-69f5-49ec-9b15-fac9765796e7"
      },
      "source": [
        "# Count plot for the repayment status in June 2005.\n",
        "plt.figure(figsize=(16,9))\n",
        "sns.countplot(x=\"PAY_4\",data=credit_card_clients_df)\n",
        "plt.show()"
      ],
      "execution_count": null,
      "outputs": [
        {
          "output_type": "display_data",
          "data": {
            "image/png": "[encoded data removed]",
            "text/plain": [
              "<Figure size 1152x648 with 1 Axes>"
            ]
          },
          "metadata": {
            "tags": [],
            "needs_background": "light"
          }
        }
      ]
    },
    {
      "cell_type": "markdown",
      "metadata": {
        "id": "_Avs21KyN-yx"
      },
      "source": [
        "Calculate counts for the repayment status in May 2005."
      ]
    },
    {
      "cell_type": "code",
      "metadata": {
        "id": "re-4LrQsMK3H",
        "colab": {
          "base_uri": "https://localhost:8080/",
          "height": 202
        },
        "outputId": "5dff0804-a1cf-4808-8f80-6976700aba0e"
      },
      "source": [
        "# Counts for the repayment status in May 2005.\n",
        "credit_card_clients_df[\"PAY_5\"].value_counts()"
      ],
      "execution_count": null,
      "outputs": [
        {
          "output_type": "execute_result",
          "data": {
            "text/plain": [
              " 0    16947\n",
              "-1     5539\n",
              "-2     4546\n",
              " 2     2626\n",
              " 3      178\n",
              " 4       84\n",
              " 7       58\n",
              " 5       17\n",
              " 6        4\n",
              " 8        1\n",
              "Name: PAY_5, dtype: int64"
            ]
          },
          "metadata": {
            "tags": []
          },
          "execution_count": 147
        }
      ]
    },
    {
      "cell_type": "code",
      "metadata": {
        "id": "RehiovzxMWVj",
        "colab": {
          "base_uri": "https://localhost:8080/",
          "height": 168
        },
        "outputId": "7b1d8803-aa21-4a8b-b448-6bcfdfe44517"
      },
      "source": [
        "# Replace the negative values with 0. Ignore if there are none.\n",
        "credit_card_clients_df.loc[credit_card_clients_df[\"PAY_5\"]<0,\"PAY_5\"]=0\n",
        "credit_card_clients_df[\"PAY_5\"].value_counts()"
      ],
      "execution_count": null,
      "outputs": [
        {
          "output_type": "execute_result",
          "data": {
            "text/plain": [
              "0    27032\n",
              "2     2626\n",
              "3      178\n",
              "4       84\n",
              "7       58\n",
              "5       17\n",
              "6        4\n",
              "8        1\n",
              "Name: PAY_5, dtype: int64"
            ]
          },
          "metadata": {
            "tags": []
          },
          "execution_count": 177
        }
      ]
    },
    {
      "cell_type": "markdown",
      "metadata": {
        "id": "Gh6kp43fOD-6"
      },
      "source": [
        "Calculate the percentages for the repayment status in May 2005."
      ]
    },
    {
      "cell_type": "code",
      "metadata": {
        "id": "XbYCwge4ed4c",
        "colab": {
          "base_uri": "https://localhost:8080/",
          "height": 168
        },
        "outputId": "0b34236a-5115-4d55-a17f-aad0a3b9a449"
      },
      "source": [
        "# Percentages for the repayment status in May 2005.\n",
        "percent4=credit_card_clients_df[\"PAY_5\"].value_counts()*100/credit_card_clients_df.shape[0]\n",
        "percent4"
      ],
      "execution_count": null,
      "outputs": [
        {
          "output_type": "execute_result",
          "data": {
            "text/plain": [
              "0    90.106667\n",
              "2     8.753333\n",
              "3     0.593333\n",
              "4     0.280000\n",
              "7     0.193333\n",
              "5     0.056667\n",
              "6     0.013333\n",
              "8     0.003333\n",
              "Name: PAY_5, dtype: float64"
            ]
          },
          "metadata": {
            "tags": []
          },
          "execution_count": 149
        }
      ]
    },
    {
      "cell_type": "markdown",
      "metadata": {
        "id": "saOKpr4mOZXk"
      },
      "source": [
        "Create a count plot for the repayment status in May 2005."
      ]
    },
    {
      "cell_type": "code",
      "metadata": {
        "id": "1qB2Sv6Oepmt",
        "colab": {
          "base_uri": "https://localhost:8080/",
          "height": 552
        },
        "outputId": "8c81556e-80ca-4ce3-9d98-f10acfeba713"
      },
      "source": [
        "# Count plot for the repayment status in May 2005.\n",
        "plt.figure(figsize=(16,9))\n",
        "sns.countplot(x=\"PAY_5\",data=credit_card_clients_df)\n",
        "plt.show()"
      ],
      "execution_count": null,
      "outputs": [
        {
          "output_type": "display_data",
          "data": {
            "image/png": "[encoded data removed]",
            "text/plain": [
              "<Figure size 1152x648 with 1 Axes>"
            ]
          },
          "metadata": {
            "tags": [],
            "needs_background": "light"
          }
        }
      ]
    },
    {
      "cell_type": "markdown",
      "metadata": {
        "id": "hIxlBoa2Od9W"
      },
      "source": [
        "Calculate counts for the repayment status in April 2005."
      ]
    },
    {
      "cell_type": "code",
      "metadata": {
        "id": "hKJSMKg_MoV6",
        "colab": {
          "base_uri": "https://localhost:8080/",
          "height": 202
        },
        "outputId": "5e6f8d7a-2d60-49d1-d620-1e7902973167"
      },
      "source": [
        "# Counts for the repayment status in April 2005.\n",
        "credit_card_clients_df[\"PAY_6\"].value_counts()"
      ],
      "execution_count": null,
      "outputs": [
        {
          "output_type": "execute_result",
          "data": {
            "text/plain": [
              " 0    16286\n",
              "-1     5740\n",
              "-2     4895\n",
              " 2     2766\n",
              " 3      184\n",
              " 4       49\n",
              " 7       46\n",
              " 6       19\n",
              " 5       13\n",
              " 8        2\n",
              "Name: PAY_6, dtype: int64"
            ]
          },
          "metadata": {
            "tags": []
          },
          "execution_count": 151
        }
      ]
    },
    {
      "cell_type": "code",
      "metadata": {
        "id": "KXIfw8OnMxHB",
        "colab": {
          "base_uri": "https://localhost:8080/",
          "height": 168
        },
        "outputId": "4a60ebca-b015-43df-d02c-38feb5dc53ae"
      },
      "source": [
        "# Replace the negative values with 0. Ignore if there are none.\n",
        "credit_card_clients_df.loc[credit_card_clients_df[\"PAY_6\"]<0,\"PAY_6\"]=0\n",
        "credit_card_clients_df[\"PAY_6\"].value_counts()"
      ],
      "execution_count": null,
      "outputs": [
        {
          "output_type": "execute_result",
          "data": {
            "text/plain": [
              "0    26921\n",
              "2     2766\n",
              "3      184\n",
              "4       49\n",
              "7       46\n",
              "6       19\n",
              "5       13\n",
              "8        2\n",
              "Name: PAY_6, dtype: int64"
            ]
          },
          "metadata": {
            "tags": []
          },
          "execution_count": 178
        }
      ]
    },
    {
      "cell_type": "markdown",
      "metadata": {
        "id": "lpWe_pimOkEZ"
      },
      "source": [
        "Calculate the percentages for the repayment status in May 2005."
      ]
    },
    {
      "cell_type": "code",
      "metadata": {
        "id": "rrxPm_ZzeheL",
        "colab": {
          "base_uri": "https://localhost:8080/",
          "height": 168
        },
        "outputId": "22b28f95-0d4a-4cf5-9641-8faf28299e68"
      },
      "source": [
        "# Percentages for the repayment status in April 2005.\n",
        "percent5=credit_card_clients_df[\"PAY_6\"].value_counts()*100/credit_card_clients_df.shape[0]\n",
        "percent5"
      ],
      "execution_count": null,
      "outputs": [
        {
          "output_type": "execute_result",
          "data": {
            "text/plain": [
              "0    89.736667\n",
              "2     9.220000\n",
              "3     0.613333\n",
              "4     0.163333\n",
              "7     0.153333\n",
              "6     0.063333\n",
              "5     0.043333\n",
              "8     0.006667\n",
              "Name: PAY_6, dtype: float64"
            ]
          },
          "metadata": {
            "tags": []
          },
          "execution_count": 153
        }
      ]
    },
    {
      "cell_type": "markdown",
      "metadata": {
        "id": "5TpYT-RsOp0l"
      },
      "source": [
        "Create a count plot for the repayment status in April 2005."
      ]
    },
    {
      "cell_type": "code",
      "metadata": {
        "id": "0eGvLKljetVj",
        "colab": {
          "base_uri": "https://localhost:8080/",
          "height": 552
        },
        "outputId": "8272848c-1d00-4f04-e55a-0b990e4a98a2"
      },
      "source": [
        "# Count plot for the repayment status in April 2005.\n",
        "plt.figure(figsize=(16,9))\n",
        "sns.countplot(x=\"PAY_6\",data=credit_card_clients_df)\n",
        "plt.show()"
      ],
      "execution_count": null,
      "outputs": [
        {
          "output_type": "display_data",
          "data": {
            "image/png": "[encoded data removed]",
            "text/plain": [
              "<Figure size 1152x648 with 1 Axes>"
            ]
          },
          "metadata": {
            "tags": [],
            "needs_background": "light"
          }
        }
      ]
    },
    {
      "cell_type": "markdown",
      "metadata": {
        "id": "J_NE6AC_9rsq"
      },
      "source": [
        "---"
      ]
    },
    {
      "cell_type": "markdown",
      "metadata": {
        "id": "aadvvk7i9sXQ"
      },
      "source": [
        "#### 4.6 Default Payment Status\n",
        "\n",
        "The next column to be checked is `default.payment.next.month`. It denotes default payment status of a client in the following month (October) where\n",
        "\n",
        "- `1` means yes the client is a defaulter i.e., they failed to make the payment due in the following month.\n",
        "\n",
        "- `0` means no the client is NOT a defaulter i.e., they successfully made the payment due in the following month.\n",
        "\n",
        "Any row containing any other value for this column should be removed.\n",
        "\n",
        "Calculate counts for the default payment status in October 2005."
      ]
    },
    {
      "cell_type": "code",
      "metadata": {
        "id": "c-FOKCqImfxX",
        "colab": {
          "base_uri": "https://localhost:8080/",
          "height": 67
        },
        "outputId": "cd5e5c92-93d7-4442-c79c-f87c46cd0b7e"
      },
      "source": [
        "# Counts for default payment status in October 2005.\n",
        "credit_card_clients_df[\"default.payment.next.month\"].value_counts()"
      ],
      "execution_count": null,
      "outputs": [
        {
          "output_type": "execute_result",
          "data": {
            "text/plain": [
              "0    23364\n",
              "1     6636\n",
              "Name: default.payment.next.month, dtype: int64"
            ]
          },
          "metadata": {
            "tags": []
          },
          "execution_count": 155
        }
      ]
    },
    {
      "cell_type": "code",
      "metadata": {
        "id": "0QOrWO6E-0Ks"
      },
      "source": [
        "# Remove the rows containing any other value apart from 0 and 1. Ignore if there are none."
      ],
      "execution_count": null,
      "outputs": []
    },
    {
      "cell_type": "markdown",
      "metadata": {
        "id": "zPMvVJNYO18t"
      },
      "source": [
        "Calculate the percentages for the default payment status in October 2005."
      ]
    },
    {
      "cell_type": "code",
      "metadata": {
        "id": "D_Ol76bTmlzb",
        "colab": {
          "base_uri": "https://localhost:8080/",
          "height": 67
        },
        "outputId": "3d1f8f12-7204-4a66-d8ac-f7a6cb8cec7f"
      },
      "source": [
        "# Percentages for default payment status in October 2005.\n",
        "percent6=credit_card_clients_df[\"default.payment.next.month\"].value_counts()*100/credit_card_clients_df.shape[0]\n",
        "percent6"
      ],
      "execution_count": null,
      "outputs": [
        {
          "output_type": "execute_result",
          "data": {
            "text/plain": [
              "0    77.88\n",
              "1    22.12\n",
              "Name: default.payment.next.month, dtype: float64"
            ]
          },
          "metadata": {
            "tags": []
          },
          "execution_count": 157
        }
      ]
    },
    {
      "cell_type": "markdown",
      "metadata": {
        "id": "OSiCGxLt86ce"
      },
      "source": [
        "**Q:** What  of clients were defaulters?\n",
        "\n",
        "**A:** 22.12% of the clients were defaulters."
      ]
    },
    {
      "cell_type": "markdown",
      "metadata": {
        "id": "fAp0v38vO-pN"
      },
      "source": [
        "Create a count plot for the default payment status in October 2005."
      ]
    },
    {
      "cell_type": "code",
      "metadata": {
        "id": "KqxtuAQg84z6",
        "colab": {
          "base_uri": "https://localhost:8080/",
          "height": 551
        },
        "outputId": "e4a69439-73cb-453c-d8cd-2626bc5a9889"
      },
      "source": [
        "# Count plot for default payment status in October 2005.\n",
        "plt.figure(figsize=(16,9))\n",
        "sns.countplot(x=\"default.payment.next.month\",data=credit_card_clients_df)\n",
        "plt.show()"
      ],
      "execution_count": null,
      "outputs": [
        {
          "output_type": "display_data",
          "data": {
            "image/png": "[encoded data removed]",
            "text/plain": [
              "<Figure size 1152x648 with 1 Axes>"
            ]
          },
          "metadata": {
            "tags": [],
            "needs_background": "light"
          }
        }
      ]
    },
    {
      "cell_type": "markdown",
      "metadata": {
        "id": "q4NRQwxmbmZZ"
      },
      "source": [
        "---"
      ]
    },
    {
      "cell_type": "markdown",
      "metadata": {
        "id": "k6Ueda22tzi6"
      },
      "source": [
        "### 5. Box Plots & Histograms\n",
        "\n",
        "The final task is to create box plots and histograms for the columns containing continuous numeric values. \n",
        "\n",
        "**Note:** All the histograms must have grids."
      ]
    },
    {
      "cell_type": "markdown",
      "metadata": {
        "id": "Di_JS4vb9OHp"
      },
      "source": [
        "**Q:** Write down the name(s) of the column(s) containing the numeric values.\n",
        "\n",
        "**A:** Bill statements\n",
        "       Previous payments\n",
        "       Age\n",
        "       Limit_Balance\n"
      ]
    },
    {
      "cell_type": "markdown",
      "metadata": {
        "id": "mOddYPtFt2ZR"
      },
      "source": [
        "---"
      ]
    },
    {
      "cell_type": "markdown",
      "metadata": {
        "id": "2xf5dZt1uDuX"
      },
      "source": [
        "#### 5.1 Bill Statement & Previous Payment Columns\n",
        "\n",
        "Create two Python lists:\n",
        "\n",
        "1. Name the first one as `bill_amt_cols` containing all the column headers for the bill statement columns. \n",
        "\n",
        "1. Name the second one as `pay_amt_cols` containing all the column headers for the previous payment columns. "
      ]
    },
    {
      "cell_type": "code",
      "metadata": {
        "id": "Jr16U854hHAB"
      },
      "source": [
        "# 'bill_amt_cols' list containing all the column headers for the bill statements. \n",
        "bill_amt_cols=[\"BILL_AMT1\",\"BILL_AMT2\",\"BILL_AMT3\",\"BILL_AMT4\",\"BILL_AMT5\",\"BILL_AMT6\"]\n",
        "# 'pay_amt_cols' list containing all the column headers for the previous payments.\n",
        "pay_amt_cols=[\"PAY_AMT1\",\"PAY_AMT2\",\"PAY_AMT3\",\"PAY_AMT4\",\"PAY_AMT5\",\"PAY_AMT6\"]"
      ],
      "execution_count": null,
      "outputs": []
    },
    {
      "cell_type": "markdown",
      "metadata": {
        "id": "DH2aJ3w31Jcz"
      },
      "source": [
        "Using the `for` loop, create box plots for all the bill statement columns."
      ]
    },
    {
      "cell_type": "code",
      "metadata": {
        "id": "7VQRc53dhYJL",
        "colab": {
          "base_uri": "https://localhost:8080/",
          "height": 617
        },
        "outputId": "32ab8183-d7b3-44a5-b8fc-a419b0423954"
      },
      "source": [
        "# Boxplots for the bill statements.\n",
        "for i in bill_amt_cols:\n",
        "  plt.figure(figsize=(20,1))\n",
        "  sns.boxplot(x=i,data=credit_card_clients_df)\n",
        "  plt.grid()\n",
        "  plt.show()"
      ],
      "execution_count": null,
      "outputs": [
        {
          "output_type": "display_data",
          "data": {
            "image/png": "[encoded data removed]",
            "text/plain": [
              "<Figure size 1440x72 with 1 Axes>"
            ]
          },
          "metadata": {
            "tags": [],
            "needs_background": "light"
          }
        },
        {
          "output_type": "display_data",
          "data": {
            "image/png": "[encoded data removed]",
            "text/plain": [
              "<Figure size 1440x72 with 1 Axes>"
            ]
          },
          "metadata": {
            "tags": [],
            "needs_background": "light"
          }
        },
        {
          "output_type": "display_data",
          "data": {
            "image/png": "[encoded data removed]",
            "text/plain": [
              "<Figure size 1440x72 with 1 Axes>"
            ]
          },
          "metadata": {
            "tags": [],
            "needs_background": "light"
          }
        },
        {
          "output_type": "display_data",
          "data": {
            "image/png": "[encoded data removed]",
            "text/plain": [
              "<Figure size 1440x72 with 1 Axes>"
            ]
          },
          "metadata": {
            "tags": [],
            "needs_background": "light"
          }
        },
        {
          "output_type": "display_data",
          "data": {
            "image/png": "[encoded data removed]",
            "text/plain": [
              "<Figure size 1440x72 with 1 Axes>"
            ]
          },
          "metadata": {
            "tags": [],
            "needs_background": "light"
          }
        },
        {
          "output_type": "display_data",
          "data": {
            "image/png": "[encoded data removed]",
            "text/plain": [
              "<Figure size 1440x72 with 1 Axes>"
            ]
          },
          "metadata": {
            "tags": [],
            "needs_background": "light"
          }
        }
      ]
    },
    {
      "cell_type": "markdown",
      "metadata": {
        "id": "AxqHHkgn1FKB"
      },
      "source": [
        "Using the `for` loop, create box plots for all the previous payment columns."
      ]
    },
    {
      "cell_type": "code",
      "metadata": {
        "id": "yyDFG1piQWmj",
        "colab": {
          "base_uri": "https://localhost:8080/",
          "height": 1000
        },
        "outputId": "6ca505db-6070-42ac-9869-28488b042572"
      },
      "source": [
        "# Boxplots for the previous payments.\n",
        "plt.figure(figsize=(9,5))\n",
        "for i in pay_amt_cols:\n",
        "  sns.boxplot(credit_card_clients_df[i])\n",
        "  plt.grid()\n",
        "  plt.show()"
      ],
      "execution_count": null,
      "outputs": [
        {
          "output_type": "display_data",
          "data": {
            "image/png": "[encoded data removed]",
            "text/plain": [
              "<Figure size 648x360 with 1 Axes>"
            ]
          },
          "metadata": {
            "tags": [],
            "needs_background": "light"
          }
        },
        {
          "output_type": "display_data",
          "data": {
            "image/png": "[encoded data removed]",
            "text/plain": [
              "<Figure size 432x288 with 1 Axes>"
            ]
          },
          "metadata": {
            "tags": [],
            "needs_background": "light"
          }
        },
        {
          "output_type": "display_data",
          "data": {
            "image/png": "[encoded data removed]",
            "text/plain": [
              "<Figure size 432x288 with 1 Axes>"
            ]
          },
          "metadata": {
            "tags": [],
            "needs_background": "light"
          }
        },
        {
          "output_type": "display_data",
          "data": {
            "image/png": "[encoded data removed]",
            "text/plain": [
              "<Figure size 432x288 with 1 Axes>"
            ]
          },
          "metadata": {
            "tags": [],
            "needs_background": "light"
          }
        },
        {
          "output_type": "display_data",
          "data": {
            "image/png": "[encoded data removed]",
            "text/plain": [
              "<Figure size 432x288 with 1 Axes>"
            ]
          },
          "metadata": {
            "tags": [],
            "needs_background": "light"
          }
        },
        {
          "output_type": "display_data",
          "data": {
            "image/png": "[encoded data removed]",
            "text/plain": [
              "<Figure size 432x288 with 1 Axes>"
            ]
          },
          "metadata": {
            "tags": [],
            "needs_background": "light"
          }
        }
      ]
    },
    {
      "cell_type": "markdown",
      "metadata": {
        "id": "T7TBmMCF1AJS"
      },
      "source": [
        "Using the `for` loop, create histograms for all the bill statement columns."
      ]
    },
    {
      "cell_type": "code",
      "metadata": {
        "id": "CvKYhtQnQcCv",
        "colab": {
          "base_uri": "https://localhost:8080/",
          "height": 1000
        },
        "outputId": "9295ee38-e9b8-4207-d00e-53520586fea4"
      },
      "source": [
        "# Histograms for the bill statements.\n",
        "plt.figure(figsize=(9,5))\n",
        "for i in bill_amt_cols:\n",
        "  sns.distplot(credit_card_clients_df[i],kde=False)\n",
        "  plt.grid()\n",
        "  plt.show()"
      ],
      "execution_count": null,
      "outputs": [
        {
          "output_type": "display_data",
          "data": {
            "image/png": "[encoded data removed]",
            "text/plain": [
              "<Figure size 648x360 with 1 Axes>"
            ]
          },
          "metadata": {
            "tags": [],
            "needs_background": "light"
          }
        },
        {
          "output_type": "display_data",
          "data": {
            "image/png": "[encoded data removed]",
            "text/plain": [
              "<Figure size 432x288 with 1 Axes>"
            ]
          },
          "metadata": {
            "tags": [],
            "needs_background": "light"
          }
        },
        {
          "output_type": "display_data",
          "data": {
            "image/png": "[encoded data removed]",
            "text/plain": [
              "<Figure size 432x288 with 1 Axes>"
            ]
          },
          "metadata": {
            "tags": [],
            "needs_background": "light"
          }
        },
        {
          "output_type": "display_data",
          "data": {
            "image/png": "[encoded data removed]",
            "text/plain": [
              "<Figure size 432x288 with 1 Axes>"
            ]
          },
          "metadata": {
            "tags": [],
            "needs_background": "light"
          }
        },
        {
          "output_type": "display_data",
          "data": {
            "image/png": "[encoded data removed]",
            "text/plain": [
              "<Figure size 432x288 with 1 Axes>"
            ]
          },
          "metadata": {
            "tags": [],
            "needs_background": "light"
          }
        },
        {
          "output_type": "display_data",
          "data": {
            "image/png": "[encoded data removed]",
            "text/plain": [
              "<Figure size 432x288 with 1 Axes>"
            ]
          },
          "metadata": {
            "tags": [],
            "needs_background": "light"
          }
        }
      ]
    },
    {
      "cell_type": "markdown",
      "metadata": {
        "id": "DZVkSsWS05Vw"
      },
      "source": [
        "Using the `for` loop, create histograms for all the previous payment columns."
      ]
    },
    {
      "cell_type": "code",
      "metadata": {
        "id": "3K1hwQLkQta8",
        "colab": {
          "base_uri": "https://localhost:8080/",
          "height": 617
        },
        "outputId": "41088dfe-da82-4ea5-a33f-727c9d82c5ef"
      },
      "source": [
        "# Histograms for the previous payments.\n",
        "\n",
        "for i in pay_amt_cols:\n",
        "  plt.figure(figsize=(20,1))\n",
        "  sns.boxplot(x=i,data=credit_card_clients_df)\n",
        "  plt.grid()\n",
        "  plt.show()"
      ],
      "execution_count": null,
      "outputs": [
        {
          "output_type": "display_data",
          "data": {
            "image/png": "[encoded data removed]",
            "text/plain": [
              "<Figure size 1440x72 with 1 Axes>"
            ]
          },
          "metadata": {
            "tags": [],
            "needs_background": "light"
          }
        },
        {
          "output_type": "display_data",
          "data": {
            "image/png": "[encoded data removed]",
            "text/plain": [
              "<Figure size 1440x72 with 1 Axes>"
            ]
          },
          "metadata": {
            "tags": [],
            "needs_background": "light"
          }
        },
        {
          "output_type": "display_data",
          "data": {
            "image/png": "[encoded data removed]",
            "text/plain": [
              "<Figure size 1440x72 with 1 Axes>"
            ]
          },
          "metadata": {
            "tags": [],
            "needs_background": "light"
          }
        },
        {
          "output_type": "display_data",
          "data": {
            "image/png": "[encoded data removed]",
            "text/plain": [
              "<Figure size 1440x72 with 1 Axes>"
            ]
          },
          "metadata": {
            "tags": [],
            "needs_background": "light"
          }
        },
        {
          "output_type": "display_data",
          "data": {
            "image/png": "[encoded data removed]",
            "text/plain": [
              "<Figure size 1440x72 with 1 Axes>"
            ]
          },
          "metadata": {
            "tags": [],
            "needs_background": "light"
          }
        },
        {
          "output_type": "display_data",
          "data": {
            "image/png": "[encoded data removed]",
            "text/plain": [
              "<Figure size 1440x72 with 1 Axes>"
            ]
          },
          "metadata": {
            "tags": [],
            "needs_background": "light"
          }
        }
      ]
    },
    {
      "cell_type": "markdown",
      "metadata": {
        "id": "UVOoq_-DitFe"
      },
      "source": [
        "---"
      ]
    },
    {
      "cell_type": "markdown",
      "metadata": {
        "id": "WlT2sWDouK4Q"
      },
      "source": [
        "#### 5.2 Box Plot & Histogram For The `AGE` Column\n",
        "\n",
        "Create a box plot for the `AGE` column."
      ]
    },
    {
      "cell_type": "code",
      "metadata": {
        "id": "3uYJTGxBuLH_",
        "colab": {
          "base_uri": "https://localhost:8080/",
          "height": 568
        },
        "outputId": "f92c3a7f-18d5-4503-c2b0-9a540999c24d"
      },
      "source": [
        "# Box plot for the 'AGE' column.\n",
        "plt.figure(figsize=(9,9))\n",
        "sns.boxplot(credit_card_clients_df[\"AGE\"])\n",
        "plt.grid()\n",
        "plt.show()\n",
        "print(\"Median:\",credit_card_clients_df[\"AGE\"].median())"
      ],
      "execution_count": null,
      "outputs": [
        {
          "output_type": "display_data",
          "data": {
            "image/png": "[encoded data removed]",
            "text/plain": [
              "<Figure size 648x648 with 1 Axes>"
            ]
          },
          "metadata": {
            "tags": [],
            "needs_background": "light"
          }
        },
        {
          "output_type": "stream",
          "text": [
            "Median: 34.0\n"
          ],
          "name": "stdout"
        }
      ]
    },
    {
      "cell_type": "markdown",
      "metadata": {
        "id": "arXjrCag7eoj"
      },
      "source": [
        "**Q:** From the box plot for the `AGE` column, what is the approx median age of a credit card holder?\n",
        "\n",
        "**A:** 34"
      ]
    },
    {
      "cell_type": "markdown",
      "metadata": {
        "id": "xqZJGQBnunIV"
      },
      "source": [
        "Create a histogram for the `AGE` column."
      ]
    },
    {
      "cell_type": "code",
      "metadata": {
        "id": "MmkX2qrsurhZ",
        "colab": {
          "base_uri": "https://localhost:8080/",
          "height": 551
        },
        "outputId": "80cabdd6-2e6f-4a7c-b20c-5fea29c360a6"
      },
      "source": [
        "# Histogram for the 'AGE' column.\n",
        "plt.figure(figsize=(9,9))\n",
        "sns.distplot(credit_card_clients_df[\"AGE\"],kde=False)\n",
        "plt.grid()\n",
        "plt.show()"
      ],
      "execution_count": null,
      "outputs": [
        {
          "output_type": "display_data",
          "data": {
            "image/png": "[encoded data removed]",
            "text/plain": [
              "<Figure size 648x648 with 1 Axes>"
            ]
          },
          "metadata": {
            "tags": [],
            "needs_background": "light"
          }
        }
      ]
    },
    {
      "cell_type": "markdown",
      "metadata": {
        "id": "5cv9jULXxDe-"
      },
      "source": [
        "**Q:** Is there some peculiar pattern in the `AGE` histogram?\n",
        "\n",
        "**A:** Yes."
      ]
    },
    {
      "cell_type": "markdown",
      "metadata": {
        "id": "3D1h9Cx1ug1h"
      },
      "source": [
        "---"
      ]
    },
    {
      "cell_type": "markdown",
      "metadata": {
        "id": "DYyGboDnvXtr"
      },
      "source": [
        "#### 5.3 Box Plot & Histogram For The `LIMIT_BAL` Column\n",
        "\n",
        "Create a box plot for the `LIMIT_BAL` column."
      ]
    },
    {
      "cell_type": "code",
      "metadata": {
        "id": "aTwEfWF6zDuj",
        "colab": {
          "base_uri": "https://localhost:8080/",
          "height": 552
        },
        "outputId": "79daa302-c8ee-4045-bd80-80c33e727a13"
      },
      "source": [
        "# Boxplot for the LIMIT_BAL column.\n",
        "plt.figure(figsize=(9,9))\n",
        "sns.boxplot(credit_card_clients_df[\"LIMIT_BAL\"])\n",
        "plt.grid()\n",
        "plt.show()"
      ],
      "execution_count": null,
      "outputs": [
        {
          "output_type": "display_data",
          "data": {
            "image/png": "[encoded data removed]",
            "text/plain": [
              "<Figure size 648x648 with 1 Axes>"
            ]
          },
          "metadata": {
            "tags": [],
            "needs_background": "light"
          }
        }
      ]
    },
    {
      "cell_type": "markdown",
      "metadata": {
        "id": "ydnRrKDYyxTd"
      },
      "source": [
        "Create a histogram for the `LIMIT_BAL` column using a function from the `seaborn` module."
      ]
    },
    {
      "cell_type": "code",
      "metadata": {
        "id": "-Zi_1PlT8Xug",
        "colab": {
          "base_uri": "https://localhost:8080/",
          "height": 551
        },
        "outputId": "5783c80c-5ff9-451d-9caf-92af9648e38b"
      },
      "source": [
        "# Histogram for the 'LIMIT_BAL' column using a function from the 'seaborn' module.\n",
        "plt.figure(figsize=(9,9))\n",
        "sns.distplot(credit_card_clients_df[\"AGE\"],kde=False)\n",
        "plt.grid()\n",
        "plt.show()"
      ],
      "execution_count": null,
      "outputs": [
        {
          "output_type": "display_data",
          "data": {
            "image/png": "[encoded data removed]",
            "text/plain": [
              "<Figure size 648x648 with 1 Axes>"
            ]
          },
          "metadata": {
            "tags": [],
            "needs_background": "light"
          }
        }
      ]
    },
    {
      "cell_type": "markdown",
      "metadata": {
        "id": "swDWbGk7yl6V"
      },
      "source": [
        "Create a histogram (having 50 bins) for the `LIMIT_BAL` column using a function from the `matplotlib.pyplot` module."
      ]
    },
    {
      "cell_type": "code",
      "metadata": {
        "id": "ZvQw9HT7ibAJ",
        "colab": {
          "base_uri": "https://localhost:8080/",
          "height": 550
        },
        "outputId": "d49dcca7-7571-4e2f-fbba-6eb39dfa4c78"
      },
      "source": [
        "# Histogram (having 50 bins) for the 'LIMIT_BAL' column using a function from the 'matplotlib.pyplot' module.\n",
        "plt.figure(figsize=(9,9))\n",
        "plt.hist(credit_card_clients_df[\"LIMIT_BAL\"],bins=50)\n",
        "plt.grid()\n",
        "plt.show()"
      ],
      "execution_count": null,
      "outputs": [
        {
          "output_type": "display_data",
          "data": {
            "image/png": "[encoded data removed]",
            "text/plain": [
              "<Figure size 648x648 with 1 Axes>"
            ]
          },
          "metadata": {
            "tags": [],
            "needs_background": "light"
          }
        }
      ]
    },
    {
      "cell_type": "markdown",
      "metadata": {
        "id": "SQlIHh7YtAN_"
      },
      "source": [
        "**Q:** What happens to the counts of `LIMIT_BAL` values as the `LIMIT_BAL` values increases? What does it signify?\n",
        "\n",
        "**A:**The width of the bars decreases."
      ]
    },
    {
      "cell_type": "markdown",
      "metadata": {
        "id": "dnkmJarZkINk"
      },
      "source": [
        "---"
      ]
    },
    {
      "cell_type": "markdown",
      "metadata": {
        "id": "HOl4i-OfQiC3"
      },
      "source": [
        "### How To Solve & Submit The Project\n",
        "\n",
        "Follow the steps described below to solve the project and then submit it.\n",
        "\n",
        "1. Click on the link provided below to open the Colab file for this project.\n",
        "   \n",
        "   https://colab.research.google.com/drive/1VIYOP9g_1A6r9r8K53_MoPgLV6tg_sl2\n",
        "\n",
        "2. Create the duplicate copy of the Colab file. Here are the steps to create the duplicate copy:\n",
        "\n",
        "    - Click on the **File** menu. A new drop-down list will appear.\n",
        "\n",
        "      <img src='https://student-datasets-bucket.s3.ap-south-1.amazonaws.com/images/lesson-0/0_file_menu.png' width=500>\n",
        "\n",
        "    - Click on the **Save a copy in Drive** option. A duplicate copy will get created. It will open up in the new tab on your web browser.\n",
        "\n",
        "      <img src='https://student-datasets-bucket.s3.ap-south-1.amazonaws.com/images/lesson-0/1_create_colab_duplicate_copy.png' width=500>\n",
        "\n",
        "     - After creating the duplicate copy of the notebook, please rename it in the **YYYY-MM-DD_StudentName_Project8** format. \n",
        "\n",
        "3. Now, write your code in the prescribed code cells.\n",
        "\n",
        "4. After finishing the project, click on the **Share** button on the top right corner of the notebook. A new dialogue box will appear.\n",
        "\n",
        "  <img src='https://student-datasets-bucket.s3.ap-south-1.amazonaws.com/images/lesson-0/2_share_button.png' width=500>\n",
        "\n",
        "5. In the dialogue box, click on the **Copy link** button.\n",
        "\n",
        "   <img src='https://student-datasets-bucket.s3.ap-south-1.amazonaws.com/images/project-1/1_copy_link.png' width=500>\n",
        "\n",
        "6. The link of the duplicate copy (named as **YYYY-MM-DD_StudentName_Project8**) of the notebook will get copied which you can paste in the submission box on the WhiteHat Jr project submission interface.\n",
        "\n",
        "   <img src='https://student-datasets-bucket.s3.ap-south-1.amazonaws.com/images/project-1/2_copy_link_confirmation.png' width=500>"
      ]
    },
    {
      "cell_type": "markdown",
      "metadata": {
        "id": "Mrk8bFSnQyt-"
      },
      "source": [
        "---"
      ]
    }
  ]
}